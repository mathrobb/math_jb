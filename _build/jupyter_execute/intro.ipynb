{
 "cells": [
  {
   "cell_type": "markdown",
   "id": "d30351e3-f149-44ef-9f54-356f151cf3d1",
   "metadata": {},
   "source": [
    "# Creating Jupyter Books for Mathematics\n",
    "\n",
    "Often, as teachers, we wish to provide supplemental materials to students or to provide a set of course notes. Jupyter Books allows mathematics instructors to develop and deploy high quality content online freely available to our students and the"
   ]
  }
 ],
 "metadata": {
  "kernelspec": {
   "display_name": "Python 3 (ipykernel)",
   "language": "python",
   "name": "python3"
  },
  "language_info": {
   "codemirror_mode": {
    "name": "ipython",
    "version": 3
   },
   "file_extension": ".py",
   "mimetype": "text/x-python",
   "name": "python",
   "nbconvert_exporter": "python",
   "pygments_lexer": "ipython3",
   "version": "3.13.5"
  }
 },
 "nbformat": 4,
 "nbformat_minor": 5
}